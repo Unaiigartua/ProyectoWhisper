{
 "cells": [
  {
   "cell_type": "markdown",
   "id": "d1f8d549",
   "metadata": {},
   "source": [
    "<h1>APP WHISPER</h1>"
   ]
  },
  {
   "cell_type": "markdown",
   "id": "69df0316",
   "metadata": {},
   "source": [
    "<h3>1.- Install and Import</h1>"
   ]
  },
  {
   "cell_type": "code",
   "execution_count": null,
   "id": "dc2cba2d",
   "metadata": {
    "scrolled": false
   },
   "outputs": [],
   "source": [
    "import sys\n",
    "!{sys.executable} -m pip install git+https://github.com/openai/whisper.git \n",
    "#!{sys.executable} -m pip install ffmpeg\n",
    "!pip install ffmpeg-python\n",
    "!{sys.executable} -m pip install librosa\n",
    "!{sys.executable} -m pip install gradio\n",
    "!{sys.executable} -m pip install pydantic\n",
    "!{sys.executable} -m pip install wget\n",
    "!{sys.executable} -m pip install torch\n",
    "!pip install markupsafe==2.0.1\n"
   ]
  },
  {
   "cell_type": "code",
   "execution_count": null,
   "id": "0c4c8f80",
   "metadata": {},
   "outputs": [],
   "source": [
    "import wget\n",
    "import ffmpeg\n",
    "import whisper\n",
    "import time\n",
    "import librosa\n",
    "import soundfile as sf\n",
    "import re\n",
    "import os\n",
    "import gradio as gr\n",
    "import time\n",
    "import torch"
   ]
  },
  {
   "cell_type": "markdown",
   "id": "9e747527",
   "metadata": {},
   "source": [
    "<h3>2.- Select the model and configuration</h3>"
   ]
  },
  {
   "cell_type": "code",
   "execution_count": null,
   "id": "a70de313",
   "metadata": {},
   "outputs": [],
   "source": [
    "# model = whisper.load_model(\"tiny.en\")\n",
    "# model = whisper.load_model(\"base.en\")  \n",
    "# model = whisper.load_model(\"small\") # load the small model\n",
    "# model = whisper.load_model(\"medium.en\")\n",
    "model = whisper.load_model(\"large\")"
   ]
  },
  {
   "cell_type": "code",
   "execution_count": null,
   "id": "ebd59a4e",
   "metadata": {},
   "outputs": [],
   "source": [
    "device = torch.device('cuda:0' if torch.cuda.is_available() else 'cpu')"
   ]
  },
  {
   "cell_type": "code",
   "execution_count": null,
   "id": "a147d7be",
   "metadata": {},
   "outputs": [],
   "source": [
    "model.to(device)"
   ]
  },
  {
   "cell_type": "markdown",
   "id": "c82d776c",
   "metadata": {},
   "source": [
    "<h3>3.- Transcription example</h3>"
   ]
  },
  {
   "cell_type": "code",
   "execution_count": null,
   "id": "d829e0a8",
   "metadata": {},
   "outputs": [],
   "source": [
    "wget.download(\"http://www.moviesoundclips.net/movies1/darkknightrises/darkness.mp3\", \"audio.mp3\")"
   ]
  },
  {
   "cell_type": "code",
   "execution_count": null,
   "id": "89f669af",
   "metadata": {},
   "outputs": [],
   "source": [
    "conda activate deoldify"
   ]
  },
  {
   "cell_type": "code",
   "execution_count": null,
   "id": "366ad9e6",
   "metadata": {},
   "outputs": [],
   "source": [
    "from IPython.display import Audio \n",
    "from IPython.core.display import display\n",
    "def beep():\n",
    "    display(Audio('audio.mp3', autoplay=True))\n",
    "beep();"
   ]
  },
  {
   "cell_type": "code",
   "execution_count": null,
   "id": "6e69da4f",
   "metadata": {},
   "outputs": [],
   "source": [
    "result = model.transcribe(\"audio.mp3\")\n",
    "print(result[\"text\"])"
   ]
  },
  {
   "cell_type": "markdown",
   "id": "a4f74c0a",
   "metadata": {},
   "source": [
    "<h3>4.- App for record and transcribe</h3>"
   ]
  },
  {
   "cell_type": "code",
   "execution_count": null,
   "id": "430873f3",
   "metadata": {},
   "outputs": [],
   "source": [
    "def inference(audio):\n",
    "    # load audio and pad/trim it to fit 30 seconds\n",
    "    audio = whisper.load_audio(audio)\n",
    "    audio = whisper.pad_or_trim(audio)\n",
    "\n",
    "    # make log-Mel spectrogram and move to the same device as the model\n",
    "    mel = whisper.log_mel_spectrogram(audio).to(model.device)\n",
    "\n",
    "    # detect the spoken language\n",
    "    _, probs = model.detect_language(mel)\n",
    "    print(f\"Detected language: {max(probs, key=probs.get)}\")\n",
    "\n",
    "    # decode the audio\n",
    "    options = whisper.DecodingOptions(fp16 = False)\n",
    "    result = whisper.decode(model, mel, options)\n",
    "\n",
    "    # export result.text to a text file\n",
    "    with open(\"result.txt\", \"w\") as f:\n",
    "        f.write(result.text)\n",
    "\n",
    "\n",
    "    # print the recognized text\n",
    "    print(result.text)"
   ]
  },
  {
   "cell_type": "code",
   "execution_count": null,
   "id": "61e71172",
   "metadata": {},
   "outputs": [],
   "source": [
    "gr.Interface(\n",
    "    title = 'Whisper-app', \n",
    "    fn=inference, \n",
    "    inputs=[\n",
    "        gr.inputs.Audio(type=\"filepath\")\n",
    "    ],\n",
    "    outputs=[\n",
    "        \"textbox\"\n",
    "    ],\n",
    "    live=True).launch()"
   ]
  }
 ],
 "metadata": {
  "kernelspec": {
   "display_name": "Python 3 (ipykernel)",
   "language": "python",
   "name": "python3"
  },
  "language_info": {
   "codemirror_mode": {
    "name": "ipython",
    "version": 3
   },
   "file_extension": ".py",
   "mimetype": "text/x-python",
   "name": "python",
   "nbconvert_exporter": "python",
   "pygments_lexer": "ipython3",
   "version": "3.9.13"
  },
  "vscode": {
   "interpreter": {
    "hash": "e0d6f955f6b20eb780b1bed86b0701aab2a0d057c895afdcce576bc2196dcc6d"
   }
  }
 },
 "nbformat": 4,
 "nbformat_minor": 5
}
